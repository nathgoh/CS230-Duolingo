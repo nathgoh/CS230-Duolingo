{
 "metadata": {
  "language_info": {
   "codemirror_mode": {
    "name": "ipython",
    "version": 3
   },
   "file_extension": ".py",
   "mimetype": "text/x-python",
   "name": "python",
   "nbconvert_exporter": "python",
   "pygments_lexer": "ipython3",
   "version": "3.8.3-final"
  },
  "orig_nbformat": 2,
  "kernelspec": {
   "name": "python3",
   "display_name": "Python 3",
   "language": "python"
  }
 },
 "nbformat": 4,
 "nbformat_minor": 2,
 "cells": [
  {
   "cell_type": "code",
   "execution_count": 55,
   "metadata": {},
   "outputs": [],
   "source": [
    "import pandas as pd\n",
    "import numpy as np\n",
    "import tensorflow as tf\n",
    "import math"
   ]
  },
  {
   "cell_type": "code",
   "execution_count": 2,
   "metadata": {},
   "outputs": [],
   "source": [
    "train_data = pd.read_pickle('../data_en_es/en_es_train_data.pkl')\n",
    "test_data = pd.read_pickle('../data_en_es/en_es_test_data.pkl')"
   ]
  },
  {
   "cell_type": "code",
   "execution_count": 3,
   "metadata": {},
   "outputs": [],
   "source": [
    "train_data['label'] = train_data['label'].astype(int).astype(str)\n",
    "test_data['label'] = train_data['label'].astype(int).astype(str)"
   ]
  },
  {
   "cell_type": "code",
   "execution_count": 4,
   "metadata": {},
   "outputs": [],
   "source": [
    "variables = ['user', 'format', 'token', 'part_of_speech', 'label']"
   ]
  },
  {
   "cell_type": "code",
   "execution_count": 5,
   "metadata": {
    "tags": []
   },
   "outputs": [],
   "source": [
    "train_data_listified = train_data.groupby('user')[variables].apply(lambda data: pd.Series({feature : data[feature].tolist() for feature in data}))\n",
    "test_data_listified = test_data.groupby('user')[variables].apply(lambda data: pd.Series({feature : data[feature].tolist() for feature in data}))"
   ]
  },
  {
   "cell_type": "code",
   "execution_count": 87,
   "metadata": {},
   "outputs": [
    {
     "output_type": "execute_result",
     "data": {
      "text/plain": [
       "                                                       user  \\\n",
       "user                                                          \n",
       "++j955YG  [++j955YG, ++j955YG, ++j955YG, ++j955YG, ++j95...   \n",
       "+/iDvu/I  [+/iDvu/I, +/iDvu/I, +/iDvu/I, +/iDvu/I, +/iDv...   \n",
       "+0UEF02n  [+0UEF02n, +0UEF02n, +0UEF02n, +0UEF02n, +0UEF...   \n",
       "+197nchq  [+197nchq, +197nchq, +197nchq, +197nchq, +197n...   \n",
       "+7lbKZrn  [+7lbKZrn, +7lbKZrn, +7lbKZrn, +7lbKZrn, +7lbK...   \n",
       "...                                                     ...   \n",
       "zv3rQx2W  [zv3rQx2W, zv3rQx2W, zv3rQx2W, zv3rQx2W, zv3rQ...   \n",
       "zx+JF92P  [zx+JF92P, zx+JF92P, zx+JF92P, zx+JF92P, zx+JF...   \n",
       "zyRFO2/B  [zyRFO2/B, zyRFO2/B, zyRFO2/B, zyRFO2/B, zyRFO...   \n",
       "zzZcZM/K  [zzZcZM/K, zzZcZM/K, zzZcZM/K, zzZcZM/K, zzZcZ...   \n",
       "zzjm1vvv  [zzjm1vvv, zzjm1vvv, zzjm1vvv, zzjm1vvv, zzjm1...   \n",
       "\n",
       "                                                     format  \\\n",
       "user                                                          \n",
       "++j955YG  [reverse_translate, reverse_translate, reverse...   \n",
       "+/iDvu/I  [listen, reverse_tap, listen, listen, reverse_...   \n",
       "+0UEF02n  [reverse_tap, listen, reverse_tap, reverse_tap...   \n",
       "+197nchq  [reverse_tap, listen, listen, listen, reverse_...   \n",
       "+7lbKZrn  [reverse_translate, listen, listen, listen, re...   \n",
       "...                                                     ...   \n",
       "zv3rQx2W  [listen, listen, listen, listen, listen, liste...   \n",
       "zx+JF92P  [reverse_translate, listen, listen, listen, li...   \n",
       "zyRFO2/B  [listen, listen, listen, listen, listen, liste...   \n",
       "zzZcZM/K  [reverse_tap, listen, reverse_tap, reverse_tap...   \n",
       "zzjm1vvv  [listen, reverse_tap, reverse_translate, rever...   \n",
       "\n",
       "                                                      token  \\\n",
       "user                                                          \n",
       "++j955YG  [am, i, a, boy, i, am, from, mexico, you, are,...   \n",
       "+/iDvu/I  [what, what, good, morning, good, night, hello...   \n",
       "+0UEF02n  [what, what, hello, and, good, morning, good, ...   \n",
       "+197nchq  [what, what, good, morning, good, evening, hel...   \n",
       "+7lbKZrn  [what, what, good, morning, good, night, good,...   \n",
       "...                                                     ...   \n",
       "zv3rQx2W  [i, speak, english, i, am, sorry, where, i, am...   \n",
       "zx+JF92P  [what, what, i, am, very, good, please, i, am,...   \n",
       "zyRFO2/B  [i, am, from, mexico, are, you, from, mexico, ...   \n",
       "zzZcZM/K  [what, what, a, man, good, morning, good, even...   \n",
       "zzjm1vvv  [what, what, good, night, hello, and, good, mo...   \n",
       "\n",
       "                                             part_of_speech  \\\n",
       "user                                                          \n",
       "++j955YG  [ADP, PRON, DET, NOUN, PRON, VERB, ADP, PROPN,...   \n",
       "+/iDvu/I  [PRON, PRON, ADJ, NOUN, ADJ, NOUN, INTJ, CONJ,...   \n",
       "+0UEF02n  [PRON, PRON, INTJ, CONJ, ADJ, NOUN, ADJ, NOUN,...   \n",
       "+197nchq  [PRON, PRON, ADJ, NOUN, ADJ, NOUN, INTJ, CONJ,...   \n",
       "+7lbKZrn  [PRON, PRON, ADJ, NOUN, ADJ, NOUN, ADJ, NOUN, ...   \n",
       "...                                                     ...   \n",
       "zv3rQx2W  [PRON, VERB, PROPN, PRON, VERB, ADJ, ADV, PRON...   \n",
       "zx+JF92P  [PRON, PRON, PRON, VERB, ADV, ADJ, INTJ, PRON,...   \n",
       "zyRFO2/B  [PRON, VERB, ADP, PROPN, VERB, PRON, ADP, PROP...   \n",
       "zzZcZM/K  [PRON, PRON, DET, NOUN, ADJ, NOUN, ADJ, NOUN, ...   \n",
       "zzjm1vvv  [PRON, PRON, ADJ, NOUN, INTJ, CONJ, ADJ, NOUN,...   \n",
       "\n",
       "                                                      label  \n",
       "user                                                         \n",
       "++j955YG  [0, 1, 0, 0, 0, 0, 0, 0, 0, 0, 0, 0, 0, 1, 0, ...  \n",
       "+/iDvu/I  [0, 0, 0, 0, 0, 0, 0, 0, 0, 0, 0, 0, 0, 0, 0, ...  \n",
       "+0UEF02n  [0, 0, 0, 0, 0, 0, 0, 1, 0, 0, 0, 0, 0, 0, 0, ...  \n",
       "+197nchq  [0, 0, 0, 0, 0, 0, 1, 0, 0, 0, 0, 0, 0, 0, 0, ...  \n",
       "+7lbKZrn  [0, 0, 0, 1, 0, 0, 0, 0, 1, 0, 0, 1, 1, 0, 1, ...  \n",
       "...                                                     ...  \n",
       "zv3rQx2W  [0, 0, 0, 0, 0, 0, 0, 0, 0, 0, 0, 0, 0, 0, 0, ...  \n",
       "zx+JF92P  [0, 0, 0, 0, 0, 0, 0, 0, 0, 0, 0, 0, 0, 0, 0, ...  \n",
       "zyRFO2/B  [0, 1, 0, 0, 0, 0, 0, 0, 0, 1, 1, 0, 0, 0, 0, ...  \n",
       "zzZcZM/K  [0, 0, 0, 0, 0, 0, 0, 0, 0, 0, 0, 0, 0, 0, 0, ...  \n",
       "zzjm1vvv  [0, 0, 0, 0, 1, 1, 0, 0, 0, 0, 0, 0, 0, 0, 0, ...  \n",
       "\n",
       "[2593 rows x 5 columns]"
      ],
      "text/html": "<div>\n<style scoped>\n    .dataframe tbody tr th:only-of-type {\n        vertical-align: middle;\n    }\n\n    .dataframe tbody tr th {\n        vertical-align: top;\n    }\n\n    .dataframe thead th {\n        text-align: right;\n    }\n</style>\n<table border=\"1\" class=\"dataframe\">\n  <thead>\n    <tr style=\"text-align: right;\">\n      <th></th>\n      <th>user</th>\n      <th>format</th>\n      <th>token</th>\n      <th>part_of_speech</th>\n      <th>label</th>\n    </tr>\n    <tr>\n      <th>user</th>\n      <th></th>\n      <th></th>\n      <th></th>\n      <th></th>\n      <th></th>\n    </tr>\n  </thead>\n  <tbody>\n    <tr>\n      <th>++j955YG</th>\n      <td>[++j955YG, ++j955YG, ++j955YG, ++j955YG, ++j95...</td>\n      <td>[reverse_translate, reverse_translate, reverse...</td>\n      <td>[am, i, a, boy, i, am, from, mexico, you, are,...</td>\n      <td>[ADP, PRON, DET, NOUN, PRON, VERB, ADP, PROPN,...</td>\n      <td>[0, 1, 0, 0, 0, 0, 0, 0, 0, 0, 0, 0, 0, 1, 0, ...</td>\n    </tr>\n    <tr>\n      <th>+/iDvu/I</th>\n      <td>[+/iDvu/I, +/iDvu/I, +/iDvu/I, +/iDvu/I, +/iDv...</td>\n      <td>[listen, reverse_tap, listen, listen, reverse_...</td>\n      <td>[what, what, good, morning, good, night, hello...</td>\n      <td>[PRON, PRON, ADJ, NOUN, ADJ, NOUN, INTJ, CONJ,...</td>\n      <td>[0, 0, 0, 0, 0, 0, 0, 0, 0, 0, 0, 0, 0, 0, 0, ...</td>\n    </tr>\n    <tr>\n      <th>+0UEF02n</th>\n      <td>[+0UEF02n, +0UEF02n, +0UEF02n, +0UEF02n, +0UEF...</td>\n      <td>[reverse_tap, listen, reverse_tap, reverse_tap...</td>\n      <td>[what, what, hello, and, good, morning, good, ...</td>\n      <td>[PRON, PRON, INTJ, CONJ, ADJ, NOUN, ADJ, NOUN,...</td>\n      <td>[0, 0, 0, 0, 0, 0, 0, 1, 0, 0, 0, 0, 0, 0, 0, ...</td>\n    </tr>\n    <tr>\n      <th>+197nchq</th>\n      <td>[+197nchq, +197nchq, +197nchq, +197nchq, +197n...</td>\n      <td>[reverse_tap, listen, listen, listen, reverse_...</td>\n      <td>[what, what, good, morning, good, evening, hel...</td>\n      <td>[PRON, PRON, ADJ, NOUN, ADJ, NOUN, INTJ, CONJ,...</td>\n      <td>[0, 0, 0, 0, 0, 0, 1, 0, 0, 0, 0, 0, 0, 0, 0, ...</td>\n    </tr>\n    <tr>\n      <th>+7lbKZrn</th>\n      <td>[+7lbKZrn, +7lbKZrn, +7lbKZrn, +7lbKZrn, +7lbK...</td>\n      <td>[reverse_translate, listen, listen, listen, re...</td>\n      <td>[what, what, good, morning, good, night, good,...</td>\n      <td>[PRON, PRON, ADJ, NOUN, ADJ, NOUN, ADJ, NOUN, ...</td>\n      <td>[0, 0, 0, 1, 0, 0, 0, 0, 1, 0, 0, 1, 1, 0, 1, ...</td>\n    </tr>\n    <tr>\n      <th>...</th>\n      <td>...</td>\n      <td>...</td>\n      <td>...</td>\n      <td>...</td>\n      <td>...</td>\n    </tr>\n    <tr>\n      <th>zv3rQx2W</th>\n      <td>[zv3rQx2W, zv3rQx2W, zv3rQx2W, zv3rQx2W, zv3rQ...</td>\n      <td>[listen, listen, listen, listen, listen, liste...</td>\n      <td>[i, speak, english, i, am, sorry, where, i, am...</td>\n      <td>[PRON, VERB, PROPN, PRON, VERB, ADJ, ADV, PRON...</td>\n      <td>[0, 0, 0, 0, 0, 0, 0, 0, 0, 0, 0, 0, 0, 0, 0, ...</td>\n    </tr>\n    <tr>\n      <th>zx+JF92P</th>\n      <td>[zx+JF92P, zx+JF92P, zx+JF92P, zx+JF92P, zx+JF...</td>\n      <td>[reverse_translate, listen, listen, listen, li...</td>\n      <td>[what, what, i, am, very, good, please, i, am,...</td>\n      <td>[PRON, PRON, PRON, VERB, ADV, ADJ, INTJ, PRON,...</td>\n      <td>[0, 0, 0, 0, 0, 0, 0, 0, 0, 0, 0, 0, 0, 0, 0, ...</td>\n    </tr>\n    <tr>\n      <th>zyRFO2/B</th>\n      <td>[zyRFO2/B, zyRFO2/B, zyRFO2/B, zyRFO2/B, zyRFO...</td>\n      <td>[listen, listen, listen, listen, listen, liste...</td>\n      <td>[i, am, from, mexico, are, you, from, mexico, ...</td>\n      <td>[PRON, VERB, ADP, PROPN, VERB, PRON, ADP, PROP...</td>\n      <td>[0, 1, 0, 0, 0, 0, 0, 0, 0, 1, 1, 0, 0, 0, 0, ...</td>\n    </tr>\n    <tr>\n      <th>zzZcZM/K</th>\n      <td>[zzZcZM/K, zzZcZM/K, zzZcZM/K, zzZcZM/K, zzZcZ...</td>\n      <td>[reverse_tap, listen, reverse_tap, reverse_tap...</td>\n      <td>[what, what, a, man, good, morning, good, even...</td>\n      <td>[PRON, PRON, DET, NOUN, ADJ, NOUN, ADJ, NOUN, ...</td>\n      <td>[0, 0, 0, 0, 0, 0, 0, 0, 0, 0, 0, 0, 0, 0, 0, ...</td>\n    </tr>\n    <tr>\n      <th>zzjm1vvv</th>\n      <td>[zzjm1vvv, zzjm1vvv, zzjm1vvv, zzjm1vvv, zzjm1...</td>\n      <td>[listen, reverse_tap, reverse_translate, rever...</td>\n      <td>[what, what, good, night, hello, and, good, mo...</td>\n      <td>[PRON, PRON, ADJ, NOUN, INTJ, CONJ, ADJ, NOUN,...</td>\n      <td>[0, 0, 0, 0, 1, 1, 0, 0, 0, 0, 0, 0, 0, 0, 0, ...</td>\n    </tr>\n  </tbody>\n</table>\n<p>2593 rows × 5 columns</p>\n</div>"
     },
     "metadata": {},
     "execution_count": 87
    }
   ],
   "source": [
    "train_data_listified"
   ]
  },
  {
   "cell_type": "code",
   "execution_count": 88,
   "metadata": {},
   "outputs": [
    {
     "output_type": "execute_result",
     "data": {
      "text/plain": [
       "                                                       user  \\\n",
       "user                                                          \n",
       "++j955YG  [++j955YG, ++j955YG, ++j955YG, ++j955YG, ++j95...   \n",
       "+/iDvu/I  [+/iDvu/I, +/iDvu/I, +/iDvu/I, +/iDvu/I, +/iDv...   \n",
       "+0UEF02n  [+0UEF02n, +0UEF02n, +0UEF02n, +0UEF02n, +0UEF...   \n",
       "+197nchq  [+197nchq, +197nchq, +197nchq, +197nchq, +197n...   \n",
       "+7lbKZrn  [+7lbKZrn, +7lbKZrn, +7lbKZrn, +7lbKZrn, +7lbK...   \n",
       "...                                                     ...   \n",
       "zv3rQx2W  [zv3rQx2W, zv3rQx2W, zv3rQx2W, zv3rQx2W, zv3rQ...   \n",
       "zx+JF92P  [zx+JF92P, zx+JF92P, zx+JF92P, zx+JF92P, zx+JF...   \n",
       "zyRFO2/B  [zyRFO2/B, zyRFO2/B, zyRFO2/B, zyRFO2/B, zyRFO...   \n",
       "zzZcZM/K  [zzZcZM/K, zzZcZM/K, zzZcZM/K, zzZcZM/K, zzZcZ...   \n",
       "zzjm1vvv  [zzjm1vvv, zzjm1vvv, zzjm1vvv, zzjm1vvv, zzjm1...   \n",
       "\n",
       "                                                     format  \\\n",
       "user                                                          \n",
       "++j955YG  [reverse_tap, reverse_tap, reverse_tap, revers...   \n",
       "+/iDvu/I  [reverse_tap, reverse_tap, reverse_tap, revers...   \n",
       "+0UEF02n  [listen, listen, listen, reverse_translate, re...   \n",
       "+197nchq  [reverse_translate, reverse_translate, reverse...   \n",
       "+7lbKZrn  [reverse_translate, reverse_translate, reverse...   \n",
       "...                                                     ...   \n",
       "zv3rQx2W  [reverse_translate, reverse_translate, reverse...   \n",
       "zx+JF92P  [reverse_translate, reverse_translate, reverse...   \n",
       "zyRFO2/B  [listen, listen, reverse_tap, reverse_tap, rev...   \n",
       "zzZcZM/K  [reverse_tap, reverse_tap, reverse_tap, revers...   \n",
       "zzjm1vvv  [listen, listen, listen, listen, listen, liste...   \n",
       "\n",
       "                                                      token  \\\n",
       "user                                                          \n",
       "++j955YG  [all, the, food, those, are, keys, those, are,...   \n",
       "+/iDvu/I  [she, feels, well, she, receives, her, car, i,...   \n",
       "+0UEF02n  [she, is, independent, she, is, independent, t...   \n",
       "+197nchq  [the, neighborhood, the, border, the, avenue, ...   \n",
       "+7lbKZrn  [my, name, my, passport, where, the, computer,...   \n",
       "...                                                     ...   \n",
       "zv3rQx2W  [i, need, a, toothbrush, where, is, my, clock,...   \n",
       "zx+JF92P  [the, clothes, inside, and, outside, my, cloth...   \n",
       "zyRFO2/B  [the, center, i, like, the, site, the, center,...   \n",
       "zzZcZM/K  [the, century, a, minute, one, moment, please,...   \n",
       "zzjm1vvv  [you, are, popular, she, is, professional, he,...   \n",
       "\n",
       "                                             part_of_speech  \\\n",
       "user                                                          \n",
       "++j955YG  [DET, DET, NOUN, PRON, VERB, NOUN, PRON, VERB,...   \n",
       "+/iDvu/I  [PRON, VERB, ADV, PRON, VERB, PRON, NOUN, PRON...   \n",
       "+0UEF02n  [PRON, VERB, ADJ, PRON, VERB, ADJ, DET, NOUN, ...   \n",
       "+197nchq  [DET, NOUN, DET, NOUN, DET, NOUN, DET, NOUN, D...   \n",
       "+7lbKZrn  [PRON, NOUN, PRON, NOUN, ADV, DET, NOUN, VERB,...   \n",
       "...                                                     ...   \n",
       "zv3rQx2W  [PRON, VERB, DET, NOUN, ADV, VERB, PRON, NOUN,...   \n",
       "zx+JF92P  [DET, NOUN, ADP, CONJ, ADJ, PRON, NOUN, DET, N...   \n",
       "zyRFO2/B  [DET, NOUN, PRON, VERB, DET, NOUN, DET, NOUN, ...   \n",
       "zzZcZM/K  [DET, NOUN, DET, NOUN, NUM, NOUN, INTJ, ADP, D...   \n",
       "zzjm1vvv  [PRON, VERB, ADJ, PRON, VERB, ADJ, PRON, VERB,...   \n",
       "\n",
       "                                                      label  \n",
       "user                                                         \n",
       "++j955YG  [0, 0, 1, 0, 0, 0, 0, 0, 1, 0, 0, 0, 0, 0, 0, ...  \n",
       "+/iDvu/I  [0, 0, 0, 0, 0, 0, 0, 0, 0, 0, 0, 0, 0, 0, 0, ...  \n",
       "+0UEF02n  [0, 0, 0, 0, 0, 0, 1, 0, 0, 0, 0, 0, 0, 0, 0, ...  \n",
       "+197nchq  [0, 0, 0, 0, 0, 0, 0, 0, 0, 0, 1, 0, 0, 0, 0, ...  \n",
       "+7lbKZrn  [0, 0, 0, 0, 0, 0, 0, 0, 0, 0, 1, 0, 0, 0, 1, ...  \n",
       "...                                                     ...  \n",
       "zv3rQx2W  [0, 0, 0, 0, 0, 0, 0, 0, 0, 0, 0, 0, 0, 0, 0, ...  \n",
       "zx+JF92P  [0, 0, 0, 0, 0, 0, 0, 0, 0, 0, 0, 0, 0, 0, 0, ...  \n",
       "zyRFO2/B  [0, 0, 0, 0, 0, 0, 0, 0, 0, 0, 0, 0, 0, 1, 1, ...  \n",
       "zzZcZM/K  [0, 0, 0, 0, 0, 1, 0, 0, 1, 0, 0, 0, 0, 1, 1, ...  \n",
       "zzjm1vvv  [1, 0, 0, 0, 0, 0, 0, 1, 0, 0, 0, 0, 0, 0, 0, ...  \n",
       "\n",
       "[2593 rows x 5 columns]"
      ],
      "text/html": "<div>\n<style scoped>\n    .dataframe tbody tr th:only-of-type {\n        vertical-align: middle;\n    }\n\n    .dataframe tbody tr th {\n        vertical-align: top;\n    }\n\n    .dataframe thead th {\n        text-align: right;\n    }\n</style>\n<table border=\"1\" class=\"dataframe\">\n  <thead>\n    <tr style=\"text-align: right;\">\n      <th></th>\n      <th>user</th>\n      <th>format</th>\n      <th>token</th>\n      <th>part_of_speech</th>\n      <th>label</th>\n    </tr>\n    <tr>\n      <th>user</th>\n      <th></th>\n      <th></th>\n      <th></th>\n      <th></th>\n      <th></th>\n    </tr>\n  </thead>\n  <tbody>\n    <tr>\n      <th>++j955YG</th>\n      <td>[++j955YG, ++j955YG, ++j955YG, ++j955YG, ++j95...</td>\n      <td>[reverse_tap, reverse_tap, reverse_tap, revers...</td>\n      <td>[all, the, food, those, are, keys, those, are,...</td>\n      <td>[DET, DET, NOUN, PRON, VERB, NOUN, PRON, VERB,...</td>\n      <td>[0, 0, 1, 0, 0, 0, 0, 0, 1, 0, 0, 0, 0, 0, 0, ...</td>\n    </tr>\n    <tr>\n      <th>+/iDvu/I</th>\n      <td>[+/iDvu/I, +/iDvu/I, +/iDvu/I, +/iDvu/I, +/iDv...</td>\n      <td>[reverse_tap, reverse_tap, reverse_tap, revers...</td>\n      <td>[she, feels, well, she, receives, her, car, i,...</td>\n      <td>[PRON, VERB, ADV, PRON, VERB, PRON, NOUN, PRON...</td>\n      <td>[0, 0, 0, 0, 0, 0, 0, 0, 0, 0, 0, 0, 0, 0, 0, ...</td>\n    </tr>\n    <tr>\n      <th>+0UEF02n</th>\n      <td>[+0UEF02n, +0UEF02n, +0UEF02n, +0UEF02n, +0UEF...</td>\n      <td>[listen, listen, listen, reverse_translate, re...</td>\n      <td>[she, is, independent, she, is, independent, t...</td>\n      <td>[PRON, VERB, ADJ, PRON, VERB, ADJ, DET, NOUN, ...</td>\n      <td>[0, 0, 0, 0, 0, 0, 1, 0, 0, 0, 0, 0, 0, 0, 0, ...</td>\n    </tr>\n    <tr>\n      <th>+197nchq</th>\n      <td>[+197nchq, +197nchq, +197nchq, +197nchq, +197n...</td>\n      <td>[reverse_translate, reverse_translate, reverse...</td>\n      <td>[the, neighborhood, the, border, the, avenue, ...</td>\n      <td>[DET, NOUN, DET, NOUN, DET, NOUN, DET, NOUN, D...</td>\n      <td>[0, 0, 0, 0, 0, 0, 0, 0, 0, 0, 1, 0, 0, 0, 0, ...</td>\n    </tr>\n    <tr>\n      <th>+7lbKZrn</th>\n      <td>[+7lbKZrn, +7lbKZrn, +7lbKZrn, +7lbKZrn, +7lbK...</td>\n      <td>[reverse_translate, reverse_translate, reverse...</td>\n      <td>[my, name, my, passport, where, the, computer,...</td>\n      <td>[PRON, NOUN, PRON, NOUN, ADV, DET, NOUN, VERB,...</td>\n      <td>[0, 0, 0, 0, 0, 0, 0, 0, 0, 0, 1, 0, 0, 0, 1, ...</td>\n    </tr>\n    <tr>\n      <th>...</th>\n      <td>...</td>\n      <td>...</td>\n      <td>...</td>\n      <td>...</td>\n      <td>...</td>\n    </tr>\n    <tr>\n      <th>zv3rQx2W</th>\n      <td>[zv3rQx2W, zv3rQx2W, zv3rQx2W, zv3rQx2W, zv3rQ...</td>\n      <td>[reverse_translate, reverse_translate, reverse...</td>\n      <td>[i, need, a, toothbrush, where, is, my, clock,...</td>\n      <td>[PRON, VERB, DET, NOUN, ADV, VERB, PRON, NOUN,...</td>\n      <td>[0, 0, 0, 0, 0, 0, 0, 0, 0, 0, 0, 0, 0, 0, 0, ...</td>\n    </tr>\n    <tr>\n      <th>zx+JF92P</th>\n      <td>[zx+JF92P, zx+JF92P, zx+JF92P, zx+JF92P, zx+JF...</td>\n      <td>[reverse_translate, reverse_translate, reverse...</td>\n      <td>[the, clothes, inside, and, outside, my, cloth...</td>\n      <td>[DET, NOUN, ADP, CONJ, ADJ, PRON, NOUN, DET, N...</td>\n      <td>[0, 0, 0, 0, 0, 0, 0, 0, 0, 0, 0, 0, 0, 0, 0, ...</td>\n    </tr>\n    <tr>\n      <th>zyRFO2/B</th>\n      <td>[zyRFO2/B, zyRFO2/B, zyRFO2/B, zyRFO2/B, zyRFO...</td>\n      <td>[listen, listen, reverse_tap, reverse_tap, rev...</td>\n      <td>[the, center, i, like, the, site, the, center,...</td>\n      <td>[DET, NOUN, PRON, VERB, DET, NOUN, DET, NOUN, ...</td>\n      <td>[0, 0, 0, 0, 0, 0, 0, 0, 0, 0, 0, 0, 0, 1, 1, ...</td>\n    </tr>\n    <tr>\n      <th>zzZcZM/K</th>\n      <td>[zzZcZM/K, zzZcZM/K, zzZcZM/K, zzZcZM/K, zzZcZ...</td>\n      <td>[reverse_tap, reverse_tap, reverse_tap, revers...</td>\n      <td>[the, century, a, minute, one, moment, please,...</td>\n      <td>[DET, NOUN, DET, NOUN, NUM, NOUN, INTJ, ADP, D...</td>\n      <td>[0, 0, 0, 0, 0, 1, 0, 0, 1, 0, 0, 0, 0, 1, 1, ...</td>\n    </tr>\n    <tr>\n      <th>zzjm1vvv</th>\n      <td>[zzjm1vvv, zzjm1vvv, zzjm1vvv, zzjm1vvv, zzjm1...</td>\n      <td>[listen, listen, listen, listen, listen, liste...</td>\n      <td>[you, are, popular, she, is, professional, he,...</td>\n      <td>[PRON, VERB, ADJ, PRON, VERB, ADJ, PRON, VERB,...</td>\n      <td>[1, 0, 0, 0, 0, 0, 0, 1, 0, 0, 0, 0, 0, 0, 0, ...</td>\n    </tr>\n  </tbody>\n</table>\n<p>2593 rows × 5 columns</p>\n</div>"
     },
     "metadata": {},
     "execution_count": 88
    }
   ],
   "source": [
    "test_data_listified"
   ]
  },
  {
   "cell_type": "code",
   "execution_count": 10,
   "metadata": {},
   "outputs": [],
   "source": [
    "# Create index to string mappings for the features, include an index mapping for padding\n",
    "# so padding will have index of 0\n",
    "def feature_mapping(tokens, pad = \"_PAD_\"):\n",
    "    unique_features = list(set(tokens))\n",
    "    unique_features.insert(0, pad)\n",
    "\n",
    "    tokens_to_index = {feature: index for index, feature in enumerate(unique_features)}\n",
    "    \n",
    "    return tokens_to_index\n",
    "\n"
   ]
  },
  {
   "cell_type": "code",
   "execution_count": 11,
   "metadata": {
    "tags": []
   },
   "outputs": [],
   "source": [
    "feature_map = {}\n",
    "for var in variables:\n",
    "    feature_map[var] = {}\n",
    "    feature_map[var] = feature_mapping(train_data[var])\n"
   ]
  },
  {
   "cell_type": "code",
   "execution_count": 16,
   "metadata": {},
   "outputs": [
    {
     "output_type": "execute_result",
     "data": {
      "text/plain": [
       "{'user': 2594, 'format': 4, 'token': 1968, 'part_of_speech': 17, 'label': 3}"
      ]
     },
     "metadata": {},
     "execution_count": 16
    }
   ],
   "source": [
    "# Vocab sizes\n",
    "{var: len(feature_map[var]) for var in feature_map}"
   ]
  },
  {
   "cell_type": "code",
   "execution_count": 64,
   "metadata": {},
   "outputs": [
    {
     "output_type": "execute_result",
     "data": {
      "text/plain": [
       "0.00     103.0\n",
       "0.05     396.2\n",
       "0.10     453.2\n",
       "0.15     499.0\n",
       "0.20     548.0\n",
       "0.25     594.0\n",
       "0.30     639.6\n",
       "0.35     693.2\n",
       "0.40     740.0\n",
       "0.45     788.0\n",
       "0.50     835.0\n",
       "0.55     887.0\n",
       "0.60     941.2\n",
       "0.65    1020.0\n",
       "0.70    1101.4\n",
       "0.75    1219.0\n",
       "0.80    1358.2\n",
       "0.85    1526.0\n",
       "0.90    1779.2\n",
       "0.95    2228.8\n",
       "Name: user, dtype: float64"
      ]
     },
     "metadata": {},
     "execution_count": 64
    }
   ],
   "source": [
    "train_data['user'].value_counts().quantile(np.arange(0, 1, 0.05))"
   ]
  },
  {
   "cell_type": "code",
   "execution_count": 65,
   "metadata": {},
   "outputs": [],
   "source": [
    "def add_padding(sequences, feature_map, maxlen = 1500):\n",
    "    index = [[feature_map[feature] for feature in sequence] for sequence in sequences]\n",
    "\n",
    "    index = tf.keras.preprocessing.sequence.pad_sequences(index, maxlen, value = feature_map[\"_PAD_\"])\n",
    "    return index"
   ]
  },
  {
   "cell_type": "code",
   "execution_count": 66,
   "metadata": {
    "tags": []
   },
   "outputs": [],
   "source": [
    "indexed_train_data = {var: add_padding(train_data_listified[var], feature_map[var]) for var in feature_map}"
   ]
  },
  {
   "cell_type": "code",
   "execution_count": null,
   "metadata": {},
   "outputs": [],
   "source": []
  }
 ]
}